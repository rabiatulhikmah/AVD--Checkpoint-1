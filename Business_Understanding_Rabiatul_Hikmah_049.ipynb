{
  "nbformat": 4,
  "nbformat_minor": 0,
  "metadata": {
    "colab": {
      "provenance": []
    },
    "kernelspec": {
      "name": "python3",
      "display_name": "Python 3"
    },
    "language_info": {
      "name": "python"
    }
  },
  "cells": [
    {
      "cell_type": "markdown",
      "source": [
        "# BUSINESS UNDERSTANDING"
      ],
      "metadata": {
        "id": "_xjlngPrx8-N"
      }
    },
    {
      "cell_type": "markdown",
      "source": [
        "**Judul**: Rekomendasi Produk Fashion Berdasarkan Rentang Harga dan Merek"
      ],
      "metadata": {
        "id": "jj10-zJuoY2z"
      }
    },
    {
      "cell_type": "markdown",
      "source": [
        "## Business Objective\n",
        "Tujuan utama proyek ini adalah meningkatkan penjualan dan kepuasan pelanggan di platform e-commerce melalui sistem rekomendasi produk yang mempertimbangkan preferensi merek dan rentang harga. Dengan memahami pola pembelian konsumen, proyek ini berupaya menawarkan pengalaman belanja yang lebih personal dan relevan. Selain itu, inisiatif ini diharapkan dapat mengoptimalkan strategi pemasaran dan meningkatkan loyalitas pelanggan terhadap platform."
      ],
      "metadata": {
        "id": "2ittg0bhyB9q"
      }
    },
    {
      "cell_type": "markdown",
      "source": [
        "# Assess Situasion\n",
        "Industri fashion e-commerce bersifat sangat kompetitif dengan beragam merek dan variasi harga. Pelanggan sering merasa kesulitan menemukan produk yang sesuai dengan preferensi mereka. Dataset yang digunakan berisi informasi penting seperti nama produk, merek, harga, deskripsi, dan kategori. Namun, tantangan utamanya adalah mengolah data ini agar mampu memberikan rekomendasi yang tepat tanpa membuat pengguna merasa jenuh atau kewalahan.\n",
        "Selain itu, perubahan tren dan perilaku pelanggan yang dinamis membutuhkan sistem rekomendasi yang adaptif. Oleh karena itu, diperlukan analisis mendalam mengenai hubungan antara preferensi merek dan rentang harga untuk memastikan rekomendasi tetap relevan seiring waktu.\n",
        "\n"
      ],
      "metadata": {
        "id": "sqYGV9A3yO7u"
      }
    },
    {
      "cell_type": "markdown",
      "source": [
        "# Data Mining Goals\n",
        "Tujuan dari data mining dalam proyek ini adalah memahami preferensi pelanggan terhadap merek dan rentang harga tertentu. Dengan menganalisis pola pembelian, kita bisa mengetahui produk mana yang paling sering dipilih berdasarkan harga dan merek. Selain itu, pengelompokan pelanggan yang memiliki kesukaan serupa dapat membantu dalam membuat rekomendasi yang lebih relevan. Pendekatan ini juga bertujuan untuk meningkatkan pengalaman belanja dengan memberikan saran produk yang sesuai dan lebih personal bagi setiap pengguna.\n",
        "\n"
      ],
      "metadata": {
        "id": "lOvjaYNlys9_"
      }
    },
    {
      "cell_type": "markdown",
      "source": [
        "# Project Plan\n",
        "\n",
        "\n",
        "1.   **Eksplorasi Data:**\n",
        "Mulai dengan membersihkan data dari duplikasi atau informasi yang kurang relevan. Lalu, analisis harga dan merek mana yang paling populer menggunakan grafik sederhana seperti bar chart dan histogram. Ini bertujuan agar kita bisa paham pola dasar dari data yang tersedia.\n",
        "2.   **Pemodelan:**\n",
        "Buat model rekomendasi yang fokus pada harga dan merek. Misalnya, menggunakan content-based filtering untuk rekomendasi produk serupa berdasarkan deskripsi, merek, dan harga. Jika memungkinkan, kombinasikan dengan collaborative filtering jika ada data perilaku pengguna.\n",
        "3. **Evaluasi:**\n",
        "Uji model rekomendasi dengan data yang ada untuk memastikan akurasinya. Bisa pakai metrik sederhana seperti berapa kali rekomendasi diklik atau dibeli. Evaluasi ini penting biar kita tahu modelnya bener-bener efektif atau belum.\n",
        "4. **Peluncuran:**\n",
        "Terapkan rekomendasi secara bertahap, mulai dari kelompok pengguna kecil dulu. Kumpulkan umpan balik untuk perbaikan sebelum diluncurkan secara penuh. Dengan cara ini, risiko kesalahan bisa diminimalkan dan rekomendasi bisa terus ditingkatkan sesuai kebutuhan pelanggan.\n",
        "\n"
      ],
      "metadata": {
        "id": "LpCR3b9bzWvJ"
      }
    }
  ]
}